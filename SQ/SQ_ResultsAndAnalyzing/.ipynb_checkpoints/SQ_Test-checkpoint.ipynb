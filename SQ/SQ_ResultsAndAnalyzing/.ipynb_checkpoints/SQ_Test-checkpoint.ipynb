{
 "cells": [
  {
   "cell_type": "markdown",
   "id": "c7464f5a-1e5b-409c-bca8-76191ca48896",
   "metadata": {},
   "source": [
    "# SQ-Test Analyse"
   ]
  },
  {
   "cell_type": "code",
   "execution_count": 3,
   "id": "806b093c-8f20-40e4-a97f-9ada1df4b144",
   "metadata": {},
   "outputs": [
    {
     "data": {
      "text/plain": [
       "'2.2.2'"
      ]
     },
     "execution_count": 3,
     "metadata": {},
     "output_type": "execute_result"
    }
   ],
   "source": [
    "import os\n",
    "import pandas as pd\n",
    "import numpy as np\n",
    "import matplotlib.pyplot as plt\n",
    "import seaborn as sns\n",
    "import gc   # um Speicherprobleme zu vermeiden\n",
    "pd.__version__   # zeigt die aktuell installierte Version von Pandas an    "
   ]
  },
  {
   "cell_type": "code",
   "execution_count": null,
   "id": "3b229128-fc48-428e-be0b-827f96dad38e",
   "metadata": {},
   "outputs": [],
   "source": []
  }
 ],
 "metadata": {
  "kernelspec": {
   "display_name": "Python 3 (ipykernel)",
   "language": "python",
   "name": "python3"
  },
  "language_info": {
   "codemirror_mode": {
    "name": "ipython",
    "version": 3
   },
   "file_extension": ".py",
   "mimetype": "text/x-python",
   "name": "python",
   "nbconvert_exporter": "python",
   "pygments_lexer": "ipython3",
   "version": "3.12.4"
  }
 },
 "nbformat": 4,
 "nbformat_minor": 5
}
